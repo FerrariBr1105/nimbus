{
 "cells": [
  {
   "cell_type": "markdown",
   "metadata": {},
   "source": [
    "TODO: criar uma pasta específica para a fonte (INMET) para a raw/processed e alterar os códigos que referenciam os arquivos."
   ]
  },
  {
   "cell_type": "code",
   "execution_count": null,
   "metadata": {},
   "outputs": [],
   "source": [
    "%load_ext autoreload\n",
    "%autoreload 2"
   ]
  },
  {
   "cell_type": "code",
   "execution_count": null,
   "metadata": {},
   "outputs": [],
   "source": [
    "import os\n",
    "\n",
    "import pandas as pd\n",
    "\n",
    "from src.data import etl"
   ]
  },
  {
   "cell_type": "code",
   "execution_count": null,
   "metadata": {},
   "outputs": [],
   "source": [
    "# Diretório fonte dos dados\n",
    "dir_fonte='../../../data/interim/inmet_historico'\n",
    "\n",
    "# Pastas das subdivisões por ano\n",
    "pastas = os.listdir(dir_fonte)"
   ]
  },
  {
   "cell_type": "code",
   "execution_count": null,
   "metadata": {},
   "outputs": [],
   "source": [
    "# Para cada pasta\n",
    "for sub_pasta in pastas:\n",
    "    arquivos = os.listdir(dir_fonte + '/' + sub_pasta)\n",
    "    for arq in arquivos:\n",
    "        # Lendo apenas as especificações do arquivo\n",
    "        df_info = pd.read_csv(\n",
    "            dir_fonte + '/' + sub_pasta + '/' +arq, \n",
    "            sep=';', \n",
    "            encoding='ANSI', \n",
    "            decimal=',',\n",
    "            nrows=7,\n",
    "            names=['ATRIBUTO', 'VALOR'],\n",
    "            header=None,\n",
    "        )\n",
    "\n",
    "        # Lendo dados\n",
    "        df = pd.read_csv(\n",
    "            dir_fonte + '/' + sub_pasta + '/' +arq, \n",
    "            sep=';', \n",
    "            encoding='ANSI',\n",
    "            decimal=',',\n",
    "            skiprows=8 \n",
    "        )\n",
    "        "
   ]
  },
  {
   "cell_type": "code",
   "execution_count": null,
   "metadata": {},
   "outputs": [],
   "source": [
    "df_info = pd.read_csv(\n",
    "    dir_fonte + '/' + sub_pasta + '/' +arq, \n",
    "    sep=';', \n",
    "    encoding='ANSI', \n",
    "    decimal=',',\n",
    "    nrows=7,\n",
    "    names=['ATRIBUTO', 'VALOR'],\n",
    "    header=None,\n",
    ")\n",
    "\n",
    "# Lendo dados\n",
    "df = pd.read_csv(\n",
    "    dir_fonte + '/' + sub_pasta + '/' +arq, \n",
    "    sep=';', \n",
    "    encoding='ANSI',\n",
    "    decimal=',',\n",
    "    skiprows=8 \n",
    ")"
   ]
  },
  {
   "cell_type": "code",
   "execution_count": null,
   "metadata": {},
   "outputs": [],
   "source": [
    "df = etl.processa_csv_inmet(df_info, df)"
   ]
  },
  {
   "cell_type": "code",
   "execution_count": null,
   "metadata": {},
   "outputs": [],
   "source": [
    "etl.transformacao_inmet(df)"
   ]
  }
 ],
 "metadata": {
  "kernelspec": {
   "display_name": "Python 3",
   "language": "python",
   "name": "python3"
  },
  "language_info": {
   "codemirror_mode": {
    "name": "ipython",
    "version": 3
   },
   "file_extension": ".py",
   "mimetype": "text/x-python",
   "name": "python",
   "nbconvert_exporter": "python",
   "pygments_lexer": "ipython3",
   "version": "3.12.1"
  }
 },
 "nbformat": 4,
 "nbformat_minor": 2
}
