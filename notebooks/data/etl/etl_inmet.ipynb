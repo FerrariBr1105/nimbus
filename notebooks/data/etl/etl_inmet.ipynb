{
 "cells": [
  {
   "cell_type": "code",
   "execution_count": 1,
   "metadata": {},
   "outputs": [],
   "source": [
    "%load_ext autoreload\n",
    "%autoreload 2"
   ]
  },
  {
   "cell_type": "code",
   "execution_count": 2,
   "metadata": {},
   "outputs": [],
   "source": [
    "import os\n",
    "import warnings\n",
    "\n",
    "import pandas as pd\n",
    "import numpy as np\n",
    "\n",
    "from src.data import etl\n",
    "from src.data import bq\n",
    "\n",
    "# Setup\n",
    "warnings.filterwarnings('ignore')"
   ]
  },
  {
   "cell_type": "code",
   "execution_count": 3,
   "metadata": {},
   "outputs": [],
   "source": [
    "# Diretório fonte dos dados\n",
    "dir_fonte='../../../data/interim/inmet_historico'\n",
    "\n",
    "# Pastas das subdivisões por ano\n",
    "pastas = os.listdir(dir_fonte)"
   ]
  },
  {
   "cell_type": "code",
   "execution_count": null,
   "metadata": {},
   "outputs": [],
   "source": [
    "# Para cada pasta\n",
    "for sub_pasta in pastas:\n",
    "    arquivos = os.listdir(dir_fonte + '/' + sub_pasta)\n",
    "    for arq in arquivos:\n",
    "        print(arq)\n",
    "        # Lendo apenas as especificações do arquivo\n",
    "        df_info = pd.read_csv(\n",
    "            dir_fonte + '/' + sub_pasta + '/' +arq, \n",
    "            sep=';', \n",
    "            encoding='ANSI', \n",
    "            decimal=',',\n",
    "            nrows=7,\n",
    "            names=['ATRIBUTO', 'VALOR'],\n",
    "            header=None,\n",
    "        )\n",
    "\n",
    "        # Lendo dados\n",
    "        df = pd.read_csv(\n",
    "            dir_fonte + '/' + sub_pasta + '/' +arq, \n",
    "            sep=';', \n",
    "            encoding='ANSI',\n",
    "            decimal=',',\n",
    "            skiprows=8 \n",
    "        )\n",
    "\n",
    "        df = etl.processa_csv_inmet(df_info, df)\n",
    "        df = etl.transformacao_inmet(df)\n",
    "        \n",
    "        table_id = 'alert-being-435923-n9.inmet_historico.dados_historico'\n",
    "        bq.exporta_dados(df, table_id)\n",
    "        "
   ]
  }
 ],
 "metadata": {
  "kernelspec": {
   "display_name": "Python 3",
   "language": "python",
   "name": "python3"
  },
  "language_info": {
   "codemirror_mode": {
    "name": "ipython",
    "version": 3
   },
   "file_extension": ".py",
   "mimetype": "text/x-python",
   "name": "python",
   "nbconvert_exporter": "python",
   "pygments_lexer": "ipython3",
   "version": "3.12.1"
  }
 },
 "nbformat": 4,
 "nbformat_minor": 2
}
