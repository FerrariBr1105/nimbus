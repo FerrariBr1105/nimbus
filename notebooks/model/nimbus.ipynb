{
 "cells": [
  {
   "cell_type": "code",
   "execution_count": 9,
   "metadata": {},
   "outputs": [
    {
     "name": "stdout",
     "output_type": "stream",
     "text": [
      "The autoreload extension is already loaded. To reload it, use:\n",
      "  %reload_ext autoreload\n"
     ]
    }
   ],
   "source": [
    "%load_ext autoreload\n",
    "%autoreload 2"
   ]
  },
  {
   "cell_type": "code",
   "execution_count": 10,
   "metadata": {},
   "outputs": [],
   "source": [
    "import pandas as pd\n",
    "import lightgbm as lgb\n",
    "from sklearn.model_selection import train_test_split\n",
    "from sklearn.metrics import accuracy_score, roc_auc_score, precision_score\n",
    "\n",
    "from src.data import etl"
   ]
  },
  {
   "cell_type": "code",
   "execution_count": 11,
   "metadata": {},
   "outputs": [
    {
     "data": {
      "text/html": [
       "<div>\n",
       "<style scoped>\n",
       "    .dataframe tbody tr th:only-of-type {\n",
       "        vertical-align: middle;\n",
       "    }\n",
       "\n",
       "    .dataframe tbody tr th {\n",
       "        vertical-align: top;\n",
       "    }\n",
       "\n",
       "    .dataframe thead th {\n",
       "        text-align: right;\n",
       "    }\n",
       "</style>\n",
       "<table border=\"1\" class=\"dataframe\">\n",
       "  <thead>\n",
       "    <tr style=\"text-align: right;\">\n",
       "      <th></th>\n",
       "      <th>datgeracaoconjuntodados</th>\n",
       "      <th>nomagente</th>\n",
       "      <th>dthinicioocorrenciaaberta</th>\n",
       "      <th>dthfimocorrenciaaberta</th>\n",
       "      <th>ufibge</th>\n",
       "      <th>nom_ufibge</th>\n",
       "      <th>ocorrencia_meio_ambiente</th>\n",
       "      <th>data_key</th>\n",
       "      <th>uf</th>\n",
       "      <th>pressao_atm</th>\n",
       "      <th>temp_min</th>\n",
       "      <th>temp_max</th>\n",
       "      <th>umidade</th>\n",
       "      <th>vento_direcao</th>\n",
       "      <th>vento_rajada</th>\n",
       "      <th>vento_velocidade</th>\n",
       "    </tr>\n",
       "  </thead>\n",
       "  <tbody>\n",
       "    <tr>\n",
       "      <th>0</th>\n",
       "      <td>2024-09-10</td>\n",
       "      <td>ENERGISA ACRE - DISTRIBUIDORA DE ENERGIA S.A</td>\n",
       "      <td>2024-01-01 03:27:44</td>\n",
       "      <td>2024-01-01 04:18:40</td>\n",
       "      <td>12</td>\n",
       "      <td>Acre</td>\n",
       "      <td>False</td>\n",
       "      <td>2024-01-01 03:00:00</td>\n",
       "      <td>AC</td>\n",
       "      <td>986.8</td>\n",
       "      <td>24.2</td>\n",
       "      <td>24.7</td>\n",
       "      <td>48.5</td>\n",
       "      <td>33.5</td>\n",
       "      <td>2.5</td>\n",
       "      <td>0.2</td>\n",
       "    </tr>\n",
       "    <tr>\n",
       "      <th>1</th>\n",
       "      <td>2024-09-10</td>\n",
       "      <td>ENERGISA ACRE - DISTRIBUIDORA DE ENERGIA S.A</td>\n",
       "      <td>2024-01-01 06:09:00</td>\n",
       "      <td>2024-01-01 09:06:08</td>\n",
       "      <td>12</td>\n",
       "      <td>Acre</td>\n",
       "      <td>True</td>\n",
       "      <td>2024-01-01 06:00:00</td>\n",
       "      <td>AC</td>\n",
       "      <td>985.6</td>\n",
       "      <td>23.6</td>\n",
       "      <td>23.7</td>\n",
       "      <td>49.0</td>\n",
       "      <td>19.0</td>\n",
       "      <td>1.0</td>\n",
       "      <td>0.3</td>\n",
       "    </tr>\n",
       "    <tr>\n",
       "      <th>2</th>\n",
       "      <td>2024-09-10</td>\n",
       "      <td>ENERGISA ACRE - DISTRIBUIDORA DE ENERGIA S.A</td>\n",
       "      <td>2024-01-01 06:21:00</td>\n",
       "      <td>2024-01-01 11:43:29</td>\n",
       "      <td>12</td>\n",
       "      <td>Acre</td>\n",
       "      <td>False</td>\n",
       "      <td>2024-01-01 06:00:00</td>\n",
       "      <td>AC</td>\n",
       "      <td>985.6</td>\n",
       "      <td>23.6</td>\n",
       "      <td>23.7</td>\n",
       "      <td>49.0</td>\n",
       "      <td>19.0</td>\n",
       "      <td>1.0</td>\n",
       "      <td>0.3</td>\n",
       "    </tr>\n",
       "    <tr>\n",
       "      <th>3</th>\n",
       "      <td>2024-09-10</td>\n",
       "      <td>ENERGISA ACRE - DISTRIBUIDORA DE ENERGIA S.A</td>\n",
       "      <td>2024-01-01 06:25:00</td>\n",
       "      <td>2024-01-01 07:39:46</td>\n",
       "      <td>12</td>\n",
       "      <td>Acre</td>\n",
       "      <td>False</td>\n",
       "      <td>2024-01-01 06:00:00</td>\n",
       "      <td>AC</td>\n",
       "      <td>985.6</td>\n",
       "      <td>23.6</td>\n",
       "      <td>23.7</td>\n",
       "      <td>49.0</td>\n",
       "      <td>19.0</td>\n",
       "      <td>1.0</td>\n",
       "      <td>0.3</td>\n",
       "    </tr>\n",
       "    <tr>\n",
       "      <th>4</th>\n",
       "      <td>2024-09-10</td>\n",
       "      <td>ENERGISA ACRE - DISTRIBUIDORA DE ENERGIA S.A</td>\n",
       "      <td>2024-01-01 06:30:00</td>\n",
       "      <td>2024-01-01 10:48:56</td>\n",
       "      <td>12</td>\n",
       "      <td>Acre</td>\n",
       "      <td>True</td>\n",
       "      <td>2024-01-01 06:00:00</td>\n",
       "      <td>AC</td>\n",
       "      <td>985.6</td>\n",
       "      <td>23.6</td>\n",
       "      <td>23.7</td>\n",
       "      <td>49.0</td>\n",
       "      <td>19.0</td>\n",
       "      <td>1.0</td>\n",
       "      <td>0.3</td>\n",
       "    </tr>\n",
       "  </tbody>\n",
       "</table>\n",
       "</div>"
      ],
      "text/plain": [
       "  datgeracaoconjuntodados                                     nomagente  \\\n",
       "0              2024-09-10  ENERGISA ACRE - DISTRIBUIDORA DE ENERGIA S.A   \n",
       "1              2024-09-10  ENERGISA ACRE - DISTRIBUIDORA DE ENERGIA S.A   \n",
       "2              2024-09-10  ENERGISA ACRE - DISTRIBUIDORA DE ENERGIA S.A   \n",
       "3              2024-09-10  ENERGISA ACRE - DISTRIBUIDORA DE ENERGIA S.A   \n",
       "4              2024-09-10  ENERGISA ACRE - DISTRIBUIDORA DE ENERGIA S.A   \n",
       "\n",
       "  dthinicioocorrenciaaberta dthfimocorrenciaaberta  ufibge nom_ufibge  \\\n",
       "0       2024-01-01 03:27:44    2024-01-01 04:18:40      12       Acre   \n",
       "1       2024-01-01 06:09:00    2024-01-01 09:06:08      12       Acre   \n",
       "2       2024-01-01 06:21:00    2024-01-01 11:43:29      12       Acre   \n",
       "3       2024-01-01 06:25:00    2024-01-01 07:39:46      12       Acre   \n",
       "4       2024-01-01 06:30:00    2024-01-01 10:48:56      12       Acre   \n",
       "\n",
       "   ocorrencia_meio_ambiente             data_key  uf  pressao_atm  temp_min  \\\n",
       "0                     False  2024-01-01 03:00:00  AC        986.8      24.2   \n",
       "1                      True  2024-01-01 06:00:00  AC        985.6      23.6   \n",
       "2                     False  2024-01-01 06:00:00  AC        985.6      23.6   \n",
       "3                     False  2024-01-01 06:00:00  AC        985.6      23.6   \n",
       "4                      True  2024-01-01 06:00:00  AC        985.6      23.6   \n",
       "\n",
       "   temp_max  umidade  vento_direcao  vento_rajada  vento_velocidade  \n",
       "0      24.7     48.5           33.5           2.5               0.2  \n",
       "1      23.7     49.0           19.0           1.0               0.3  \n",
       "2      23.7     49.0           19.0           1.0               0.3  \n",
       "3      23.7     49.0           19.0           1.0               0.3  \n",
       "4      23.7     49.0           19.0           1.0               0.3  "
      ]
     },
     "execution_count": 11,
     "metadata": {},
     "output_type": "execute_result"
    }
   ],
   "source": [
    "dir_df_mdl = '../../data/processed/model/df_mdl.csv'\n",
    "df = pd.read_csv(dir_df_mdl, sep=';')\n",
    "df.head()"
   ]
  },
  {
   "cell_type": "code",
   "execution_count": null,
   "metadata": {},
   "outputs": [],
   "source": [
    "variaveis = [\n",
    "    'ufibge', \n",
    "    'pressao_atm', \n",
    "    'temp_min', \n",
    "    'temp_max', \n",
    "    'umidade', \n",
    "    'vento_direcao', \n",
    "    'vento_rajada', \n",
    "    'vento_velocidade'\n",
    "]\n",
    "\n",
    "x = df[variaveis]\n",
    "y = df['ocorrencia_meio_ambiente']"
   ]
  },
  {
   "cell_type": "code",
   "execution_count": null,
   "metadata": {},
   "outputs": [],
   "source": [
    "# Dividindo os dados em conjunto de treino e teste\n",
    "x_treino, x_teste, y_treino, y_teste = train_test_split(\n",
    "    x, \n",
    "    y, \n",
    "    test_size=0.2, \n",
    "    random_state=100\n",
    ")"
   ]
  },
  {
   "cell_type": "code",
   "execution_count": null,
   "metadata": {},
   "outputs": [],
   "source": [
    "# Criando o modelo LightGBM com a API do scikit-learn\n",
    "model = lgb.LGBMClassifier(\n",
    "    objective='binary', \n",
    "    learning_rate=0.025,\n",
    "    num_leaves=32,\n",
    "    max_depth=8,\n",
    "    n_estimators=1000,\n",
    "    early_stopping_rounds=10,\n",
    "    verbose=-1\n",
    ")"
   ]
  },
  {
   "cell_type": "code",
   "execution_count": null,
   "metadata": {},
   "outputs": [],
   "source": [
    "# Treinando o modelo\n",
    "model.fit(\n",
    "    x_treino, \n",
    "    y_treino, \n",
    "    eval_set=[(x_teste, y_teste)]\n",
    ")"
   ]
  },
  {
   "cell_type": "code",
   "execution_count": 2,
   "metadata": {},
   "outputs": [
    {
     "name": "stdout",
     "output_type": "stream",
     "text": [
      "Acurácia do modelo: 0.85\n",
      "AUC do modelo: 0.78\n",
      "Precisão do modelo: 0.83\n"
     ]
    }
   ],
   "source": [
    "# Estimado\n",
    "predito = model.predict(x_teste)\n",
    "predito_prob = [p[1] for p in model.predict_proba(x_teste)]\n",
    "\n",
    "# Métricas\n",
    "accuracy = accuracy_score(y_teste, predito)\n",
    "auc = roc_auc_score(y_teste, predito_prob)\n",
    "precision = precision_score(y_teste, predito)\n",
    "\n",
    "# Exibindo as métricas\n",
    "print(f'Acurácia do modelo: {accuracy:.4f}')\n",
    "print(f'AUC do modelo: {auc:.4f}')\n",
    "print(f'Precisão do modelo: {precision:.4f}')"
   ]
  },
  {
   "cell_type": "code",
   "execution_count": 16,
   "metadata": {},
   "outputs": [],
   "source": [
    "df['probabilidade'] = [p[1] for p in model.predict_proba(df[variaveis])]"
   ]
  },
  {
   "cell_type": "code",
   "execution_count": 32,
   "metadata": {},
   "outputs": [],
   "source": [
    "table_id = 'alert-being-435923-n9.modelo.nimbus'\n",
    "etl.exporta_dados_bq(df, table_id)"
   ]
  }
 ],
 "metadata": {
  "kernelspec": {
   "display_name": "Python 3",
   "language": "python",
   "name": "python3"
  },
  "language_info": {
   "codemirror_mode": {
    "name": "ipython",
    "version": 3
   },
   "file_extension": ".py",
   "mimetype": "text/x-python",
   "name": "python",
   "nbconvert_exporter": "python",
   "pygments_lexer": "ipython3",
   "version": "3.12.1"
  }
 },
 "nbformat": 4,
 "nbformat_minor": 2
}
