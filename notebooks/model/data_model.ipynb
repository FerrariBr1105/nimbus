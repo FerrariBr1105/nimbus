{
 "cells": [
  {
   "cell_type": "code",
   "execution_count": 1,
   "metadata": {},
   "outputs": [],
   "source": [
    "%load_ext autoreload\n",
    "%autoreload 2"
   ]
  },
  {
   "cell_type": "code",
   "execution_count": 2,
   "metadata": {},
   "outputs": [],
   "source": [
    "import warnings\n",
    "\n",
    "import pandas as pd\n",
    "\n",
    "from src.data import bq\n",
    "from src.data import preprocessamento\n",
    "\n",
    "# Setup\n",
    "warnings.filterwarnings('ignore')\n",
    "\n",
    "pd.set_option('display.max_columns', None)\n",
    "pd.set_option('display.max_colwidth', 50)"
   ]
  },
  {
   "cell_type": "markdown",
   "metadata": {},
   "source": [
    "#### Dados"
   ]
  },
  {
   "cell_type": "code",
   "execution_count": 3,
   "metadata": {},
   "outputs": [],
   "source": [
    "df_inmet = pd.read_csv(r'C:\\Users\\breno\\Downloads\\nimbus_inmet_historico.csv')\n",
    "df_aneel = pd.read_csv(r'C:\\Users\\breno\\Downloads\\nimbus_aneel_historico.csv')"
   ]
  },
  {
   "cell_type": "code",
   "execution_count": 4,
   "metadata": {},
   "outputs": [],
   "source": [
    "query_inmet = \"\"\"\n",
    "    SELECT \n",
    "        *\n",
    "    FROM \n",
    "        alert-being-435923-n9.inmet_historico.dados_historico\n",
    "\"\"\""
   ]
  },
  {
   "cell_type": "code",
   "execution_count": null,
   "metadata": {},
   "outputs": [],
   "source": [
    "#df_inmet = bq.importa_dados(query_inmet)\n",
    "df_inmet.head()"
   ]
  },
  {
   "cell_type": "code",
   "execution_count": 6,
   "metadata": {},
   "outputs": [],
   "source": [
    "# SQL\n",
    "query_aneel = \"\"\"\n",
    "    SELECT \n",
    "        *\n",
    "    FROM \n",
    "        alert-being-435923-n9.aneel_historico.dados_historico\n",
    "\"\"\""
   ]
  },
  {
   "cell_type": "code",
   "execution_count": null,
   "metadata": {},
   "outputs": [],
   "source": [
    "#df_aneel = bq.importa_dados(query_aneel)\n",
    "df_aneel.head()"
   ]
  },
  {
   "cell_type": "markdown",
   "metadata": {},
   "source": [
    "#### Pré-processamento"
   ]
  },
  {
   "cell_type": "code",
   "execution_count": 8,
   "metadata": {},
   "outputs": [
    {
     "name": "stdout",
     "output_type": "stream",
     "text": [
      "erro.\n"
     ]
    }
   ],
   "source": [
    "preprocessamento.prep_aneel(df_aneel)\n",
    "df_inmet = preprocessamento.prep_inmet(df_inmet)"
   ]
  },
  {
   "cell_type": "code",
   "execution_count": 9,
   "metadata": {},
   "outputs": [
    {
     "data": {
      "text/html": [
       "<div>\n",
       "<style scoped>\n",
       "    .dataframe tbody tr th:only-of-type {\n",
       "        vertical-align: middle;\n",
       "    }\n",
       "\n",
       "    .dataframe tbody tr th {\n",
       "        vertical-align: top;\n",
       "    }\n",
       "\n",
       "    .dataframe thead th {\n",
       "        text-align: right;\n",
       "    }\n",
       "</style>\n",
       "<table border=\"1\" class=\"dataframe\">\n",
       "  <thead>\n",
       "    <tr style=\"text-align: right;\">\n",
       "      <th></th>\n",
       "      <th>datgeracaoconjuntodados</th>\n",
       "      <th>nomagente</th>\n",
       "      <th>dthinicioocorrenciaaberta</th>\n",
       "      <th>dthfimocorrenciaaberta</th>\n",
       "      <th>ufibge</th>\n",
       "      <th>nom_ufibge</th>\n",
       "      <th>ocorrencia_meio_ambiente</th>\n",
       "      <th>data_key</th>\n",
       "      <th>uf</th>\n",
       "      <th>pressao_atm</th>\n",
       "      <th>temp_min</th>\n",
       "      <th>temp_max</th>\n",
       "      <th>umidade</th>\n",
       "      <th>vento_direcao</th>\n",
       "      <th>vento_rajada</th>\n",
       "      <th>vento_velocidade</th>\n",
       "    </tr>\n",
       "  </thead>\n",
       "  <tbody>\n",
       "    <tr>\n",
       "      <th>0</th>\n",
       "      <td>2024-09-10</td>\n",
       "      <td>ENERGISA ACRE - DISTRIBUIDORA DE ENERGIA S.A</td>\n",
       "      <td>2024-01-01 03:27:44</td>\n",
       "      <td>2024-01-01 04:18:40</td>\n",
       "      <td>12</td>\n",
       "      <td>Acre</td>\n",
       "      <td>False</td>\n",
       "      <td>2024-01-01 03:00:00</td>\n",
       "      <td>AC</td>\n",
       "      <td>986.8</td>\n",
       "      <td>24.2</td>\n",
       "      <td>24.7</td>\n",
       "      <td>48.5</td>\n",
       "      <td>33.5</td>\n",
       "      <td>2.5</td>\n",
       "      <td>0.2</td>\n",
       "    </tr>\n",
       "    <tr>\n",
       "      <th>1</th>\n",
       "      <td>2024-09-10</td>\n",
       "      <td>ENERGISA ACRE - DISTRIBUIDORA DE ENERGIA S.A</td>\n",
       "      <td>2024-01-01 06:09:00</td>\n",
       "      <td>2024-01-01 09:06:08</td>\n",
       "      <td>12</td>\n",
       "      <td>Acre</td>\n",
       "      <td>True</td>\n",
       "      <td>2024-01-01 06:00:00</td>\n",
       "      <td>AC</td>\n",
       "      <td>985.6</td>\n",
       "      <td>23.6</td>\n",
       "      <td>23.7</td>\n",
       "      <td>49.0</td>\n",
       "      <td>19.0</td>\n",
       "      <td>1.0</td>\n",
       "      <td>0.3</td>\n",
       "    </tr>\n",
       "    <tr>\n",
       "      <th>2</th>\n",
       "      <td>2024-09-10</td>\n",
       "      <td>ENERGISA ACRE - DISTRIBUIDORA DE ENERGIA S.A</td>\n",
       "      <td>2024-01-01 06:21:00</td>\n",
       "      <td>2024-01-01 11:43:29</td>\n",
       "      <td>12</td>\n",
       "      <td>Acre</td>\n",
       "      <td>False</td>\n",
       "      <td>2024-01-01 06:00:00</td>\n",
       "      <td>AC</td>\n",
       "      <td>985.6</td>\n",
       "      <td>23.6</td>\n",
       "      <td>23.7</td>\n",
       "      <td>49.0</td>\n",
       "      <td>19.0</td>\n",
       "      <td>1.0</td>\n",
       "      <td>0.3</td>\n",
       "    </tr>\n",
       "    <tr>\n",
       "      <th>3</th>\n",
       "      <td>2024-09-10</td>\n",
       "      <td>ENERGISA ACRE - DISTRIBUIDORA DE ENERGIA S.A</td>\n",
       "      <td>2024-01-01 06:25:00</td>\n",
       "      <td>2024-01-01 07:39:46</td>\n",
       "      <td>12</td>\n",
       "      <td>Acre</td>\n",
       "      <td>False</td>\n",
       "      <td>2024-01-01 06:00:00</td>\n",
       "      <td>AC</td>\n",
       "      <td>985.6</td>\n",
       "      <td>23.6</td>\n",
       "      <td>23.7</td>\n",
       "      <td>49.0</td>\n",
       "      <td>19.0</td>\n",
       "      <td>1.0</td>\n",
       "      <td>0.3</td>\n",
       "    </tr>\n",
       "    <tr>\n",
       "      <th>4</th>\n",
       "      <td>2024-09-10</td>\n",
       "      <td>ENERGISA ACRE - DISTRIBUIDORA DE ENERGIA S.A</td>\n",
       "      <td>2024-01-01 06:30:00</td>\n",
       "      <td>2024-01-01 10:48:56</td>\n",
       "      <td>12</td>\n",
       "      <td>Acre</td>\n",
       "      <td>True</td>\n",
       "      <td>2024-01-01 06:00:00</td>\n",
       "      <td>AC</td>\n",
       "      <td>985.6</td>\n",
       "      <td>23.6</td>\n",
       "      <td>23.7</td>\n",
       "      <td>49.0</td>\n",
       "      <td>19.0</td>\n",
       "      <td>1.0</td>\n",
       "      <td>0.3</td>\n",
       "    </tr>\n",
       "  </tbody>\n",
       "</table>\n",
       "</div>"
      ],
      "text/plain": [
       "  datgeracaoconjuntodados                                     nomagente  \\\n",
       "0              2024-09-10  ENERGISA ACRE - DISTRIBUIDORA DE ENERGIA S.A   \n",
       "1              2024-09-10  ENERGISA ACRE - DISTRIBUIDORA DE ENERGIA S.A   \n",
       "2              2024-09-10  ENERGISA ACRE - DISTRIBUIDORA DE ENERGIA S.A   \n",
       "3              2024-09-10  ENERGISA ACRE - DISTRIBUIDORA DE ENERGIA S.A   \n",
       "4              2024-09-10  ENERGISA ACRE - DISTRIBUIDORA DE ENERGIA S.A   \n",
       "\n",
       "  dthinicioocorrenciaaberta dthfimocorrenciaaberta  ufibge nom_ufibge  \\\n",
       "0       2024-01-01 03:27:44    2024-01-01 04:18:40      12       Acre   \n",
       "1       2024-01-01 06:09:00    2024-01-01 09:06:08      12       Acre   \n",
       "2       2024-01-01 06:21:00    2024-01-01 11:43:29      12       Acre   \n",
       "3       2024-01-01 06:25:00    2024-01-01 07:39:46      12       Acre   \n",
       "4       2024-01-01 06:30:00    2024-01-01 10:48:56      12       Acre   \n",
       "\n",
       "   ocorrencia_meio_ambiente            data_key  uf  pressao_atm  temp_min  \\\n",
       "0                     False 2024-01-01 03:00:00  AC        986.8      24.2   \n",
       "1                      True 2024-01-01 06:00:00  AC        985.6      23.6   \n",
       "2                     False 2024-01-01 06:00:00  AC        985.6      23.6   \n",
       "3                     False 2024-01-01 06:00:00  AC        985.6      23.6   \n",
       "4                      True 2024-01-01 06:00:00  AC        985.6      23.6   \n",
       "\n",
       "   temp_max  umidade  vento_direcao  vento_rajada  vento_velocidade  \n",
       "0      24.7     48.5           33.5           2.5               0.2  \n",
       "1      23.7     49.0           19.0           1.0               0.3  \n",
       "2      23.7     49.0           19.0           1.0               0.3  \n",
       "3      23.7     49.0           19.0           1.0               0.3  \n",
       "4      23.7     49.0           19.0           1.0               0.3  "
      ]
     },
     "execution_count": 9,
     "metadata": {},
     "output_type": "execute_result"
    }
   ],
   "source": [
    "df_mdl = preprocessamento.gera_base_modelagem(df_aneel, df_inmet)\n",
    "df_mdl.head()"
   ]
  },
  {
   "cell_type": "code",
   "execution_count": 11,
   "metadata": {},
   "outputs": [
    {
     "ename": "",
     "evalue": "",
     "output_type": "error",
     "traceback": [
      "\u001b[1;31mThe Kernel crashed while executing code in the current cell or a previous cell. \n",
      "\u001b[1;31mPlease review the code in the cell(s) to identify a possible cause of the failure. \n",
      "\u001b[1;31mClick <a href='https://aka.ms/vscodeJupyterKernelCrash'>here</a> for more info. \n",
      "\u001b[1;31mView Jupyter <a href='command:jupyter.viewOutput'>log</a> for further details."
     ]
    }
   ],
   "source": [
    "dir_export = '../../data/processed/model/'\n",
    "df_mdl.to_csv(dir_export + 'df_mdl.csv', index=False, sep=';')"
   ]
  }
 ],
 "metadata": {
  "kernelspec": {
   "display_name": "Python 3",
   "language": "python",
   "name": "python3"
  },
  "language_info": {
   "codemirror_mode": {
    "name": "ipython",
    "version": 3
   },
   "file_extension": ".py",
   "mimetype": "text/x-python",
   "name": "python",
   "nbconvert_exporter": "python",
   "pygments_lexer": "ipython3",
   "version": "3.12.1"
  }
 },
 "nbformat": 4,
 "nbformat_minor": 2
}
