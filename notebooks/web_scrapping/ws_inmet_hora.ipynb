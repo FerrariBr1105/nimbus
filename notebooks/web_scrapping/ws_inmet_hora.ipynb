{
 "cells": [
  {
   "cell_type": "code",
   "execution_count": 2,
   "metadata": {},
   "outputs": [
    {
     "name": "stdout",
     "output_type": "stream",
     "text": [
      "Tabela não encontrada na página.\n"
     ]
    }
   ],
   "source": [
    "from selenium import webdriver\n",
    "from selenium.webdriver.chrome.service import Service\n",
    "from selenium.webdriver.common.by import By\n",
    "import pandas as pd\n",
    "\n",
    "# Caminho para o seu ChromeDriver\n",
    "chrome_driver_path = \"caminho/para/o/seu/chromedriver\"\n",
    "\n",
    "# Inicializar o WebDriver\n",
    "service = Service(chrome_driver_path)\n",
    "driver = webdriver.Chrome(service=service)\n",
    "\n",
    "# URL da página de estações automáticas\n",
    "url = \"https://tempo.inmet.gov.br/TabelaEstacoes/A001\"\n",
    "\n",
    "# Acessar a página\n",
    "driver.get(url)\n",
    "\n",
    "# Esperar a página carregar e encontrar a tabela\n",
    "table = driver.find_element(By.TAG_NAME, 'table')\n",
    "\n",
    "# Coletar os cabeçalhos da tabela (coluna)\n",
    "headers = [header.text for header in table.find_elements(By.TAG_NAME, 'th')]\n",
    "\n",
    "# Coletar os dados de cada linha da tabela\n",
    "rows = []\n",
    "for row in table.find_elements(By.TAG_NAME, 'tr')[1:]:  # Pulando o cabeçalho\n",
    "    data = [cell.text for cell in row.find_elements(By.TAG_NAME, 'td')]\n",
    "    if data:\n",
    "        rows.append(data)\n",
    "\n",
    "# Fechar o WebDriver\n",
    "driver.quit()\n",
    "\n",
    "# Criar o DataFrame com os dados\n",
    "df = pd.DataFrame(rows, columns=headers)\n",
    "\n",
    "# Exibir o DataFrame\n",
    "print(df)\n"
   ]
  },
  {
   "cell_type": "code",
   "execution_count": null,
   "metadata": {},
   "outputs": [],
   "source": []
  },
  {
   "cell_type": "code",
   "execution_count": 4,
   "metadata": {},
   "outputs": [],
   "source": [
    "import os\n",
    "from pathlib import Path\n",
    "\n",
    "from datetime import datetime\n",
    "import time\n",
    "import pandas as pd\n",
    "\n",
    "from selenium import webdriver\n",
    "from selenium.webdriver.common.by import By\n",
    "\n",
    "from src.web_scrapping import browser\n",
    "from src.web_scrapping import download\n",
    "from src.data import etl\n",
    "\n",
    "chromedriver_exe = '../../utils/chromedriver.exe'"
   ]
  },
  {
   "cell_type": "code",
   "execution_count": 6,
   "metadata": {},
   "outputs": [],
   "source": [
    "dir_download=r'C:\\Users\\breno\\OneDrive\\Documentos\\Faculdade\\FIAP\\Challenge\\2024\\nimbus\\data\\raw\\inmet_hora'"
   ]
  },
  {
   "cell_type": "code",
   "execution_count": 7,
   "metadata": {},
   "outputs": [],
   "source": [
    "# Inicia navegador\n",
    "nav = browser.inicia_navegador(\n",
    "    dir_download=dir_download,\n",
    "    chromedriver_exe=chromedriver_exe\n",
    ")"
   ]
  },
  {
   "cell_type": "code",
   "execution_count": 8,
   "metadata": {},
   "outputs": [],
   "source": [
    "# Acessa o site dos arquivos mensais\n",
    "browser.acessa_pagina(\n",
    "    navegador=nav,\n",
    "    url=\"https://tempo.inmet.gov.br/TabelaEstacoes/A001\"\n",
    ")"
   ]
  },
  {
   "cell_type": "code",
   "execution_count": 12,
   "metadata": {},
   "outputs": [],
   "source": [
    "# Definindo o xpath do menu lateral\n",
    "xpath = '//*[@id=\"root\"]/div[1]/div[1]'\n",
    "\n",
    "browser.aguarda_elemento(\n",
    "    navegador=nav, \n",
    "    tempo=20, \n",
    "    localizador=(By.XPATH, xpath)\n",
    ")\n",
    "\n",
    "menu_lateral = nav.find_element(By.XPATH, xpath)\n",
    "menu_lateral.click()"
   ]
  },
  {
   "cell_type": "code",
   "execution_count": 21,
   "metadata": {},
   "outputs": [],
   "source": [
    "# Estações de captura automática\n",
    "xpath = '//*[@id=\"root\"]/div[2]/div[1]/div[2]/div[1]/button[1]'\n",
    "\n",
    "browser.aguarda_elemento(\n",
    "    navegador=nav, \n",
    "    tempo=20, \n",
    "    localizador=(By.XPATH, xpath)\n",
    ")\n",
    "\n",
    "captura_automatica = nav.find_element(By.XPATH, xpath)\n",
    "captura_automatica.click()"
   ]
  },
  {
   "cell_type": "code",
   "execution_count": 41,
   "metadata": {},
   "outputs": [],
   "source": [
    "xpath_estado = '//*[@id=\"root\"]/div[2]/div[1]/div[2]/div[2]/input'"
   ]
  },
  {
   "cell_type": "code",
   "execution_count": 46,
   "metadata": {},
   "outputs": [],
   "source": [
    "nav.find_element(By.XPATH, xpath_estado).click()"
   ]
  },
  {
   "cell_type": "code",
   "execution_count": null,
   "metadata": {},
   "outputs": [],
   "source": []
  }
 ],
 "metadata": {
  "kernelspec": {
   "display_name": "Python 3",
   "language": "python",
   "name": "python3"
  },
  "language_info": {
   "codemirror_mode": {
    "name": "ipython",
    "version": 3
   },
   "file_extension": ".py",
   "mimetype": "text/x-python",
   "name": "python",
   "nbconvert_exporter": "python",
   "pygments_lexer": "ipython3",
   "version": "3.12.1"
  }
 },
 "nbformat": 4,
 "nbformat_minor": 2
}
