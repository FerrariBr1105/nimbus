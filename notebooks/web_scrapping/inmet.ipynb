{
 "cells": [
  {
   "cell_type": "markdown",
   "metadata": {},
   "source": [
    "#### Web Scrapping dados INMET\n",
    "\n",
    "Existe um padrão dos links de downloads referenciados pelo elemento css \"href\" para executar o download do .zip com todas as informações do ano em questão.\n",
    "\n",
    "Esse padrão contém os termos \"dadoshistoricos\" e um .zip referenciando o arquivo.\n",
    "\n",
    "Vou acessar a página e extrair todos os conteúdos do elemento 'href' da página para fazer o download dos arquivos."
   ]
  },
  {
   "cell_type": "code",
   "execution_count": null,
   "metadata": {},
   "outputs": [],
   "source": [
    "%load_ext autoreload\n",
    "%autoreload 2"
   ]
  },
  {
   "cell_type": "code",
   "execution_count": null,
   "metadata": {},
   "outputs": [],
   "source": [
    "import os\n",
    "from pathlib import Path\n",
    "\n",
    "from datetime import datetime\n",
    "import time\n",
    "import pandas as pd\n",
    "\n",
    "from selenium import webdriver\n",
    "from selenium.webdriver.common.by import By\n",
    "\n",
    "from src.web_scrapping import browser\n",
    "from src.web_scrapping import download\n",
    "from src.data import etl\n",
    "\n",
    "chromedriver_exe = '../../utils/chromedriver.exe'"
   ]
  },
  {
   "cell_type": "code",
   "execution_count": null,
   "metadata": {},
   "outputs": [],
   "source": [
    "dir_download=r'C:\\Users\\breno\\OneDrive\\Documentos\\Faculdade\\FIAP\\Challenge\\2024\\nimbus\\data\\raw\\inmet_historico'"
   ]
  },
  {
   "cell_type": "code",
   "execution_count": null,
   "metadata": {},
   "outputs": [],
   "source": [
    "# Inicia navegador\n",
    "nav = browser.inicia_navegador(\n",
    "    dir_download=dir_download,\n",
    "    chromedriver_exe=chromedriver_exe\n",
    ")"
   ]
  },
  {
   "cell_type": "code",
   "execution_count": null,
   "metadata": {},
   "outputs": [],
   "source": [
    "# Acessa o site dos arquivos mensais\n",
    "browser.acessa_pagina(\n",
    "    navegador=nav,\n",
    "    url=\"https://portal.inmet.gov.br/dadoshistoricos\"\n",
    ")"
   ]
  },
  {
   "cell_type": "code",
   "execution_count": null,
   "metadata": {},
   "outputs": [],
   "source": [
    "# Aguarda até que o elemento com os downloads seja localizado\n",
    "browser.aguarda_elemento(\n",
    "    navegador=nav, \n",
    "    tempo=20, \n",
    "    localizador=(By.CLASS_NAME, \"container\")\n",
    ")"
   ]
  },
  {
   "cell_type": "code",
   "execution_count": null,
   "metadata": {},
   "outputs": [],
   "source": [
    "# Obtendo todos os elementos 'href'\n",
    "href_page = nav.find_elements(By.CSS_SELECTOR, \"a[href]\")\n",
    "\n",
    "# Extraindo o atributo (link) de cada um deles.\n",
    "hrefs = [e.get_attribute(\"href\") for e in href_page]"
   ]
  },
  {
   "cell_type": "code",
   "execution_count": null,
   "metadata": {},
   "outputs": [],
   "source": [
    "# Links de download dos arquivos\n",
    "link_download = [l for l in hrefs if \"dadoshistoricos\" in l and \".zip\" in l]"
   ]
  },
  {
   "cell_type": "code",
   "execution_count": null,
   "metadata": {},
   "outputs": [],
   "source": [
    "# Definindo um diretório para salvar o arquivo extraído\n",
    "dir_ext = '../../data/processed/inmet_historico'"
   ]
  },
  {
   "cell_type": "code",
   "execution_count": null,
   "metadata": {},
   "outputs": [],
   "source": [
    "# Para cada link, valida se já temos os dados do ano correspondente, avalia o download e descompacta\n",
    "for link in link_download:\n",
    "    ano = link[link.find(\".zip\")-4:link.find(\".zip\")]\n",
    "    if download.verifica_existencia_arquivo(nome=ano, dir=dir_ext):\n",
    "        pass\n",
    "    else:\n",
    "        dir_zip = f'../../data/raw/inmet_historico/{ano}.zip'\n",
    "        url = link\n",
    "        browser.acessa_pagina(nav, url)\n",
    "        while not os.path.exists(dir_zip):\n",
    "            time.sleep(2)\n",
    "        extracao.descompacta_zip(dir_zip, dir_ext)"
   ]
  },
  {
   "cell_type": "code",
   "execution_count": null,
   "metadata": {},
   "outputs": [],
   "source": [
    "# Encerrando o navegador\n",
    "nav.quit()"
   ]
  }
 ],
 "metadata": {
  "kernelspec": {
   "display_name": "Python 3",
   "language": "python",
   "name": "python3"
  },
  "language_info": {
   "codemirror_mode": {
    "name": "ipython",
    "version": 3
   },
   "file_extension": ".py",
   "mimetype": "text/x-python",
   "name": "python",
   "nbconvert_exporter": "python",
   "pygments_lexer": "ipython3",
   "version": "3.12.1"
  }
 },
 "nbformat": 4,
 "nbformat_minor": 2
}
